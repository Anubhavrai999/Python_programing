{
 "cells": [
  {
   "cell_type": "markdown",
   "id": "6e7631b5-94f2-4896-ab5e-fd330bc6a5de",
   "metadata": {},
   "source": [
    "### a=89\n",
    "b=90\n",
    "if b>a:\n",
    "    print(\"b is greter than a\")"
   ]
  },
  {
   "cell_type": "code",
   "execution_count": 19,
   "id": "bb93e33a-7ca8-4f73-b00c-fdffc154721d",
   "metadata": {},
   "outputs": [
    {
     "name": "stdout",
     "output_type": "stream",
     "text": [
      "a is greter than b\n"
     ]
    }
   ],
   "source": [
    "a=99\n",
    "b=90\n",
    "if b<a:\n",
    "    print(\"a is greter than b\")"
   ]
  },
  {
   "cell_type": "code",
   "execution_count": 11,
   "id": "7bb0000c-3e36-4d3d-8ab7-fb85c243f5e2",
   "metadata": {},
   "outputs": [
    {
     "name": "stdout",
     "output_type": "stream",
     "text": [
      "a is greater than b\n"
     ]
    }
   ],
   "source": [
    "a=99\n",
    "b=90\n",
    "if b>a:\n",
    "    print(\"b is greter than a\")\n",
    "elif a>b:\n",
    "    print(\"a is greater than b\")"
   ]
  },
  {
   "cell_type": "code",
   "execution_count": 25,
   "id": "47418598-766c-434a-b08c-0af8d0774621",
   "metadata": {},
   "outputs": [
    {
     "name": "stdout",
     "output_type": "stream",
     "text": [
      "a is equal to b\n"
     ]
    }
   ],
   "source": [
    "a=90\n",
    "b=90\n",
    "if b>a:\n",
    "    print(\"b is greter than a\")\n",
    "elif a==b:\n",
    "    print(\"a is equal to b\")\n",
    "    "
   ]
  },
  {
   "cell_type": "code",
   "execution_count": 27,
   "id": "fcee94ef-a1fc-4e60-8fc1-76bff1345731",
   "metadata": {},
   "outputs": [
    {
     "name": "stdout",
     "output_type": "stream",
     "text": [
      "you are an adult\n"
     ]
    }
   ],
   "source": [
    "age=25\n",
    "if age>=18:\n",
    "    print(\"you are an adult\")"
   ]
  },
  {
   "cell_type": "code",
   "execution_count": 39,
   "id": "c27cd683-9f40-4e35-8077-9ce880923dab",
   "metadata": {},
   "outputs": [
    {
     "name": "stdout",
     "output_type": "stream",
     "text": [
      "you are a minor\n"
     ]
    }
   ],
   "source": [
    "age=17\n",
    "if age<=18:\n",
    "    print(\"you are a minor\")"
   ]
  },
  {
   "cell_type": "code",
   "execution_count": 35,
   "id": "b48ca8c6-58f1-4f4d-a774-9bf629b59b40",
   "metadata": {},
   "outputs": [
    {
     "name": "stdout",
     "output_type": "stream",
     "text": [
      "you are a adult\n"
     ]
    }
   ],
   "source": [
    "age=18\n",
    "if age<=18:\n",
    "    print(\"you are a adult\")"
   ]
  },
  {
   "cell_type": "code",
   "execution_count": 47,
   "id": "fb10b9dd-93a6-4543-93e5-f6f8c5b8a7f6",
   "metadata": {},
   "outputs": [
    {
     "name": "stdout",
     "output_type": "stream",
     "text": [
      "both condition are true\n"
     ]
    }
   ],
   "source": [
    "#if statement with a logical operator(and)\n",
    "x=5\n",
    "y=10\n",
    "if x>3 and y>8:\n",
    "    print(\"both condition are true\")"
   ]
  },
  {
   "cell_type": "code",
   "execution_count": 19,
   "id": "dbe6c61b-d3e8-4936-a460-7f61e5ca899b",
   "metadata": {},
   "outputs": [
    {
     "name": "stdout",
     "output_type": "stream",
     "text": [
      "b is equal to a\n"
     ]
    }
   ],
   "source": [
    "a=90\n",
    "b=90\n",
    "if b==a:\n",
    "    print(\"b is equal to a\")"
   ]
  },
  {
   "cell_type": "code",
   "execution_count": 21,
   "id": "18a63212-c119-4b94-9a3b-2b6bfa3cd2fe",
   "metadata": {},
   "outputs": [
    {
     "name": "stdout",
     "output_type": "stream",
     "text": [
      "b is not equal to a\n"
     ]
    }
   ],
   "source": [
    "a=90\n",
    "b=99\n",
    "if b!=a:\n",
    "    print(\"b is not equal to a\")"
   ]
  },
  {
   "cell_type": "code",
   "execution_count": 50,
   "id": "7e0ea3d5-c20c-419a-832f-2e8ce3517beb",
   "metadata": {},
   "outputs": [
    {
     "name": "stdout",
     "output_type": "stream",
     "text": [
      "b is greater then a\n"
     ]
    }
   ],
   "source": [
    "a=90\n",
    "b=99\n",
    "if b==a:\n",
    "    print(\"b is  equal to a\")\n",
    "elif b>a:\n",
    " print(\"b is greater then a\")"
   ]
  },
  {
   "cell_type": "code",
   "execution_count": 35,
   "id": "b79b8ee0-d336-49a8-9668-0d4a02da37f5",
   "metadata": {},
   "outputs": [
    {
     "name": "stdout",
     "output_type": "stream",
     "text": [
      "b is equal to a\n"
     ]
    }
   ],
   "source": [
    "a=90\n",
    "b=90\n",
    "if b<a:\n",
    "    print(\"b is less than a\")\n",
    "elif b==a:\n",
    "    print (\"b is equal to a\")"
   ]
  },
  {
   "cell_type": "code",
   "execution_count": 58,
   "id": "8a888657-47e7-4760-8e4f-204499c66aa2",
   "metadata": {},
   "outputs": [
    {
     "name": "stdout",
     "output_type": "stream",
     "text": [
      "you are a minor\n"
     ]
    }
   ],
   "source": [
    "age =15\n",
    "if age<18:\n",
    "    print(\"you are a minor\")\n",
    "elif age==18:\n",
    "    print(\"you are just and adult\")\n",
    "else :\n",
    "   (\"print you are and adult\")"
   ]
  },
  {
   "cell_type": "code",
   "execution_count": 13,
   "id": "f2030355-1b03-4711-99dc-4dad68642414",
   "metadata": {},
   "outputs": [
    {
     "name": "stdout",
     "output_type": "stream",
     "text": [
      "it is an odd number\n"
     ]
    }
   ],
   "source": [
    "age =15\n",
    "if age%2==0:\n",
    " print(\"it is an even number\")\n",
    "else: \n",
    "    print(\"it is an odd number\")"
   ]
  },
  {
   "cell_type": "code",
   "execution_count": 41,
   "id": "7ebb3267-d19a-41cb-8933-df94c48a79cd",
   "metadata": {},
   "outputs": [
    {
     "name": "stdout",
     "output_type": "stream",
     "text": [
      " GRADE= A\n"
     ]
    }
   ],
   "source": [
    "marks=90\n",
    "if marks>=90:\n",
    "    print(\" GRADE= A\")\n",
    "elif marks>=60:\n",
    "    print(\"GRADE= B\")\n",
    "else:\n",
    "    print(\"GRADE= F\")"
   ]
  },
  {
   "cell_type": "code",
   "execution_count": 5,
   "id": "dd75973f-a7dd-4631-9402-ac179aec7155",
   "metadata": {},
   "outputs": [
    {
     "name": "stdout",
     "output_type": "stream",
     "text": [
      "it is an even number\n"
     ]
    }
   ],
   "source": [
    "number=4\n",
    "if number%2==0:\n",
    "    print(\"it is an even number\")\n",
    "else:\n",
    "    print(\"it is an odd number\")"
   ]
  },
  {
   "cell_type": "code",
   "execution_count": 16,
   "id": "a87c2154-3c16-4ae3-96f8-adec7965fda7",
   "metadata": {},
   "outputs": [
    {
     "name": "stdout",
     "output_type": "stream",
     "text": [
      "number is positive\n"
     ]
    }
   ],
   "source": [
    "#nested if statement\n",
    "number=5\n",
    "\n",
    "#outer is statement\n",
    "if number >= 0:\n",
    "#inner if statement\n",
    " if number== 0:\n",
    "    print ('number is 0')\n",
    " else:\n",
    "      print('number is positive')"
   ]
  },
  {
   "cell_type": "code",
   "execution_count": 39,
   "id": "174c25d5-2f06-492d-9b8e-b21b12c30a81",
   "metadata": {},
   "outputs": [
    {
     "name": "stdout",
     "output_type": "stream",
     "text": [
      "it is not a leap year\n"
     ]
    }
   ],
   "source": [
    "#write a program to check wheter the given year is leap year or not\n",
    "year=1900\n",
    "if (year%400==0) and (year%100==0):\n",
    "    print(\"it is a leap year\")\n",
    "else:\n",
    "    print(\"it is not a leap year\")"
   ]
  },
  {
   "cell_type": "code",
   "execution_count": 68,
   "id": "169e726d-e37f-409c-890f-e99ccd48b1fb",
   "metadata": {},
   "outputs": [
    {
     "name": "stdin",
     "output_type": "stream",
     "text": [
      "enter your name anubhav\n"
     ]
    },
    {
     "name": "stdout",
     "output_type": "stream",
     "text": [
      "hello,anubhav!\n"
     ]
    }
   ],
   "source": [
    "\n",
    "#prompting the user for their name\n",
    "name=input(\"enter your name\")\n",
    "#displaying the user's input\n",
    "print(\"hello,\"+name+\"!\")"
   ]
  },
  {
   "cell_type": "code",
   "execution_count": 56,
   "id": "386f0561-2534-4e37-8fd5-5039c9ccf260",
   "metadata": {},
   "outputs": [
    {
     "name": "stdin",
     "output_type": "stream",
     "text": [
      "enter a year: 1900\n"
     ]
    },
    {
     "name": "stdout",
     "output_type": "stream",
     "text": [
      "it is not a leap year,\n"
     ]
    }
   ],
   "source": [
    "   year=int(input(\"enter a year:\"))\n",
    "if (year%40==0 and year%100!=0):\n",
    "    print(\"it is a leap year,\")\n",
    "else:\n",
    "    print(\"it is not a leap year,\")"
   ]
  },
  {
   "cell_type": "code",
   "execution_count": null,
   "id": "9c67a42d-c19a-4a61-ad35-8c34a9276901",
   "metadata": {},
   "outputs": [],
   "source": [
    "name=input(\"enter your name\")\n",
    "print(name + \" is)"
   ]
  },
  {
   "cell_type": "code",
   "execution_count": 7,
   "id": "8bd55cf2-5850-4616-bb8e-f4295f3b5697",
   "metadata": {},
   "outputs": [
    {
     "name": "stdout",
     "output_type": "stream",
     "text": [
      "0\n",
      "1\n",
      "2\n",
      "3\n",
      "4\n"
     ]
    }
   ],
   "source": [
    "for i in range(5):\n",
    "  print (i)"
   ]
  },
  {
   "cell_type": "code",
   "execution_count": 9,
   "id": "e4b1184c-f995-4bbd-92c5-e1f0d0133f9a",
   "metadata": {},
   "outputs": [
    {
     "name": "stdout",
     "output_type": "stream",
     "text": [
      "0\n",
      "1\n",
      "2\n",
      "3\n",
      "4\n",
      "5\n",
      "6\n",
      "7\n",
      "8\n",
      "9\n"
     ]
    }
   ],
   "source": [
    "for i in range(10):\n",
    "    print(i)"
   ]
  },
  {
   "cell_type": "code",
   "execution_count": 19,
   "id": "98fab5af-d62b-4b70-af6f-2197ad0c30cd",
   "metadata": {},
   "outputs": [
    {
     "name": "stdout",
     "output_type": "stream",
     "text": [
      "p\n",
      "y\n",
      "t\n",
      "h\n",
      "o\n",
      "n\n"
     ]
    }
   ],
   "source": [
    "for letter in \"python\":\n",
    "    print(letter)"
   ]
  },
  {
   "cell_type": "code",
   "execution_count": 1,
   "id": "13514e18-c2cb-4b6f-8535-c8e2700c9806",
   "metadata": {},
   "outputs": [
    {
     "name": "stdout",
     "output_type": "stream",
     "text": [
      "0\n",
      "1\n",
      "2\n",
      "3\n",
      "4\n"
     ]
    }
   ],
   "source": [
    "count=0\n",
    "while count <5:\n",
    "    print(count)\n",
    "    count +=1"
   ]
  },
  {
   "cell_type": "code",
   "execution_count": 3,
   "id": "b1e30320-d3f5-44f5-bca2-87319d102c1e",
   "metadata": {},
   "outputs": [
    {
     "name": "stdout",
     "output_type": "stream",
     "text": [
      "0\n",
      "1\n",
      "2\n",
      "3\n",
      "4\n"
     ]
    }
   ],
   "source": [
    "z =0\n",
    "while z <5:\n",
    "    print(z)\n",
    "    z +=1\n",
    "    "
   ]
  },
  {
   "cell_type": "code",
   "execution_count": 11,
   "id": "de587fdf-78ae-4bce-9313-1930b3ba56be",
   "metadata": {},
   "outputs": [
    {
     "name": "stdout",
     "output_type": "stream",
     "text": [
      "12\n"
     ]
    }
   ],
   "source": [
    "x=[1,2,3,4,5,6]\n",
    "total=0\n",
    "for total in x:\n",
    "    total+=total\n",
    "print(total)"
   ]
  },
  {
   "cell_type": "code",
   "execution_count": 15,
   "id": "f95b0097-3db4-4275-b0ab-55df57e722f7",
   "metadata": {},
   "outputs": [
    {
     "name": "stdout",
     "output_type": "stream",
     "text": [
      "1\n",
      "4\n",
      "9\n",
      "43\n"
     ]
    }
   ],
   "source": [
    "x=[1,3,5,34]\n",
    "e=0\n",
    "for x in x:\n",
    "    e+=x\n",
    "    print(e)"
   ]
  },
  {
   "cell_type": "code",
   "execution_count": 49,
   "id": "8f7ab712-ee2a-48bb-b305-1297ce6023be",
   "metadata": {},
   "outputs": [
    {
     "name": "stdout",
     "output_type": "stream",
     "text": [
      "1\n",
      "2\n",
      "3\n",
      "4\n"
     ]
    }
   ],
   "source": [
    "i=1\n",
    "while(i< 5):\n",
    "    print(i)\n",
    "    i=i+1"
   ]
  },
  {
   "cell_type": "code",
   "execution_count": 3,
   "id": "9d4c30c2-39df-4236-bd71-e8da57682e57",
   "metadata": {},
   "outputs": [
    {
     "name": "stdout",
     "output_type": "stream",
     "text": [
      "0\n",
      "1\n",
      "2\n",
      "3\n",
      "4\n",
      "5\n",
      "6\n",
      "7\n",
      "8\n",
      "9\n",
      "10\n"
     ]
    }
   ],
   "source": [
    "a=0\n",
    "while(a<=10):\n",
    "    print(a)\n",
    "    a=a+1"
   ]
  },
  {
   "cell_type": "code",
   "execution_count": 5,
   "id": "c3f18ab4-0348-4596-b881-dc07f3693336",
   "metadata": {},
   "outputs": [
    {
     "name": "stdout",
     "output_type": "stream",
     "text": [
      "0\n",
      "2\n",
      "4\n",
      "6\n",
      "8\n",
      "10\n"
     ]
    }
   ],
   "source": [
    "i=0\n",
    "while(i<=10):\n",
    "    print(i)\n",
    "    i=i+2"
   ]
  },
  {
   "cell_type": "code",
   "execution_count": 19,
   "id": "3ebef57d-dc8e-495b-96d2-b66a00787435",
   "metadata": {},
   "outputs": [
    {
     "name": "stdout",
     "output_type": "stream",
     "text": [
      "1\n",
      "3\n",
      "5\n",
      "7\n",
      "9\n"
     ]
    }
   ],
   "source": [
    "i=1\n",
    "while i<=10:\n",
    "    print(i)\n",
    "    i=i+2"
   ]
  },
  {
   "cell_type": "code",
   "execution_count": null,
   "id": "31de425b-605e-45dd-8cfe-46252f8efb73",
   "metadata": {},
   "outputs": [],
   "source": [
    "#sum of naturlal number\n",
    "n=int(input(\"Enter last limit numbers\"))\n",
    "i=1\n",
    "sum=0\n",
    "while (i<=n):\n",
    "             sum=sum+i\n",
    "             i=i+1\n",
    "             print(\"sum of n numbers\")"
   ]
  },
  {
   "cell_type": "code",
   "execution_count": null,
   "id": "1f7757e2-e527-4aea-984c-ec0377db1c3b",
   "metadata": {},
   "outputs": [],
   "source": [
    "#break ststement we can stop the loop even if the condition is\n",
    "i=1\n",
    "while i < 10:\n",
    "    print(i)\n",
    "    if i == 4:\n",
    "        break\n",
    "        i+=1  "
   ]
  },
  {
   "cell_type": "code",
   "execution_count": 2,
   "id": "2b534aa0-4801-4433-9244-0c2934875f42",
   "metadata": {},
   "outputs": [
    {
     "name": "stdout",
     "output_type": "stream",
     "text": [
      "apple\n",
      "banana\n",
      "cherry\n"
     ]
    }
   ],
   "source": [
    "fruits=['apple','banana','cherry']\n",
    "for fruits in fruits:\n",
    "    print(fruits)"
   ]
  },
  {
   "cell_type": "code",
   "execution_count": 4,
   "id": "7d5bb3cc-71dc-4252-85ac-2b3fef476d0d",
   "metadata": {},
   "outputs": [
    {
     "name": "stdout",
     "output_type": "stream",
     "text": [
      "0\n",
      "1\n",
      "2\n",
      "3\n",
      "4\n"
     ]
    }
   ],
   "source": [
    "for i in range(5):\n",
    "    print(i)"
   ]
  },
  {
   "cell_type": "code",
   "execution_count": 10,
   "id": "28a7302a-5fac-44b5-a345-818cb4aab6f4",
   "metadata": {},
   "outputs": [
    {
     "name": "stdout",
     "output_type": "stream",
     "text": [
      "p\n",
      "y\n",
      "t\n",
      "h\n",
      "o\n",
      "n\n"
     ]
    }
   ],
   "source": [
    "for letter in \"python\":\n",
    "             print(letter)"
   ]
  },
  {
   "cell_type": "code",
   "execution_count": 18,
   "id": "38ffcb53-7e12-4c7f-83e1-429257a1cc13",
   "metadata": {},
   "outputs": [
    {
     "name": "stdout",
     "output_type": "stream",
     "text": [
      "0\n",
      "1\n",
      "2\n",
      "3\n",
      "4\n",
      "5\n",
      "6\n",
      "7\n",
      "8\n",
      "9\n",
      "10\n"
     ]
    }
   ],
   "source": [
    "x=0\n",
    "for i in range(11):\n",
    "       print(i)"
   ]
  },
  {
   "cell_type": "code",
   "execution_count": 20,
   "id": "9df1720f-e6e7-4a83-b9ee-69e51bdafff5",
   "metadata": {},
   "outputs": [
    {
     "name": "stdout",
     "output_type": "stream",
     "text": [
      "1\n",
      "2\n",
      "3\n",
      "4\n",
      "5\n",
      "6\n",
      "7\n",
      "8\n",
      "9\n",
      "10\n",
      "11\n",
      "12\n",
      "13\n",
      "14\n",
      "15\n",
      "16\n",
      "17\n",
      "18\n",
      "19\n",
      "20\n"
     ]
    }
   ],
   "source": [
    "count=1\n",
    "while count<21:\n",
    "    print(count)\n",
    "    count+=1"
   ]
  },
  {
   "cell_type": "code",
   "execution_count": null,
   "id": "3cb76e28-34ae-43fc-8c70-51237d14b717",
   "metadata": {},
   "outputs": [],
   "source": []
  },
  {
   "cell_type": "code",
   "execution_count": null,
   "id": "fc061b03-c1ac-45ae-b20d-f409fccdfe8e",
   "metadata": {},
   "outputs": [],
   "source": []
  }
 ],
 "metadata": {
  "kernelspec": {
   "display_name": "Python 3 (ipykernel)",
   "language": "python",
   "name": "python3"
  },
  "language_info": {
   "codemirror_mode": {
    "name": "ipython",
    "version": 3
   },
   "file_extension": ".py",
   "mimetype": "text/x-python",
   "name": "python",
   "nbconvert_exporter": "python",
   "pygments_lexer": "ipython3",
   "version": "3.12.4"
  }
 },
 "nbformat": 4,
 "nbformat_minor": 5
}
