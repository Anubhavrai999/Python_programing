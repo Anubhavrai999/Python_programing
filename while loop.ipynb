{
 "cells": [
  {
   "cell_type": "code",
   "execution_count": 7,
   "id": "2d297557-8f78-4c69-9f42-9da0c0fe16c1",
   "metadata": {},
   "outputs": [
    {
     "name": "stdout",
     "output_type": "stream",
     "text": [
      "The sum of number from 1 to 100 is: 5050\n"
     ]
    }
   ],
   "source": [
    "total_sum=0\n",
    "number=1\n",
    "while number <=100:\n",
    "    total_sum+=number\n",
    "    number+=1\n",
    "\n",
    "print(\"The sum of number from 1 to 100 is:\", total_sum)\n"
   ]
  },
  {
   "cell_type": "code",
   "execution_count": 3,
   "id": "d6a7758f-d843-4e94-a796-2f89407a3c45",
   "metadata": {},
   "outputs": [
    {
     "name": "stdin",
     "output_type": "stream",
     "text": [
      "enter a number 1234\n"
     ]
    },
    {
     "name": "stdout",
     "output_type": "stream",
     "text": [
      "reverse no= 4321\n"
     ]
    }
   ],
   "source": [
    "x=int(input(\"enter a number\"))\n",
    "y=0\n",
    "while x>0:\n",
    "    r=x%10\n",
    "    y=y*10+r\n",
    "    x=x//10\n",
    "print(\"reverse no=\",y)"
   ]
  },
  {
   "cell_type": "code",
   "execution_count": 5,
   "id": "d3758cc7-a6c8-42ff-9ff7-e27cb7f39401",
   "metadata": {},
   "outputs": [
    {
     "name": "stdout",
     "output_type": "stream",
     "text": [
      "2\n",
      "4\n",
      "6\n",
      "8\n",
      "10\n",
      "12\n",
      "14\n",
      "16\n",
      "18\n",
      "20\n"
     ]
    }
   ],
   "source": [
    "num = 2\n",
    "\n",
    "# Use a while loop to print even numbers from 1 to 20\n",
    "while num <= 20:\n",
    "    print(num)\n",
    "    num += 2  # Increment by 2 to get the next even number\n"
   ]
  },
  {
   "cell_type": "code",
   "execution_count": 11,
   "id": "96f18c08-d4c0-45d1-8501-16d06b09b3f3",
   "metadata": {},
   "outputs": [
    {
     "name": "stdin",
     "output_type": "stream",
     "text": [
      "Enter a number:  10\n"
     ]
    },
    {
     "name": "stdout",
     "output_type": "stream",
     "text": [
      "Sum of digits: 1\n"
     ]
    }
   ],
   "source": [
    "# Function to calculate the sum of digits\n",
    "def sum_of_digits(num):\n",
    "    total_sum = 0\n",
    "    \n",
    "    while num > 0:\n",
    "        # Get the last digit of the number\n",
    "        digit = num % 10\n",
    "        \n",
    "        # Add the digit to the total sum\n",
    "        total_sum += digit\n",
    "        \n",
    "        # Remove the last digit from the number\n",
    "        num = num // 10\n",
    "    \n",
    "    return total_sum\n",
    "\n",
    "# Input a number from the user\n",
    "number = int(input(\"Enter a number: \"))\n",
    "\n",
    "# Call the function and print the sum of digits\n",
    "print(\"Sum of digits:\", sum_of_digits(number))\n"
   ]
  },
  {
   "cell_type": "code",
   "execution_count": 13,
   "id": "c61fe707-8e92-4c77-b752-b5825e1cc7ed",
   "metadata": {},
   "outputs": [
    {
     "name": "stdout",
     "output_type": "stream",
     "text": [
      "Largest number in the list: 88\n"
     ]
    }
   ],
   "source": [
    "def find_largest(numbers):\n",
    "    # Initialize the largest number with the first element in the list\n",
    "    largest = numbers[0]\n",
    "    \n",
    "    # Iterate through the list using a while loop\n",
    "    index = 1\n",
    "    while index < len(numbers):\n",
    "        if numbers[index] > largest:\n",
    "            largest = numbers[index]\n",
    "        index += 1\n",
    "    \n",
    "    return largest\n",
    "\n",
    "# Example list\n",
    "numbers = [12, 45, 7, 34, 88, 23]\n",
    "\n",
    "# Call the function and print the largest number\n",
    "print(\"Largest number in the list:\", find_largest(numbers))\n"
   ]
  },
  {
   "cell_type": "code",
   "execution_count": 15,
   "id": "1f6ea20a-6ed2-47dd-ac19-807bfb648210",
   "metadata": {},
   "outputs": [
    {
     "name": "stdout",
     "output_type": "stream",
     "text": [
      "smallest number in the list: 7\n"
     ]
    }
   ],
   "source": [
    "def find_smallest(numbers):\n",
    "    # Initialize the smallest number with the first element in the list\n",
    "    smallest = numbers[0]\n",
    "    \n",
    "    # Iterate through the list using a while loop\n",
    "    index = 1\n",
    "    while index < len(numbers):\n",
    "        if numbers[index] < smallest:\n",
    "            smallest = numbers[index]\n",
    "        index += 1\n",
    "    \n",
    "    return smallest\n",
    "\n",
    "# Example list\n",
    "numbers = [12, 45, 7, 34, 88, 23]\n",
    "\n",
    "# Call the function and print the smallest number\n",
    "print(\"smallest number in the list:\", find_smallest(numbers))\n"
   ]
  }
 ],
 "metadata": {
  "kernelspec": {
   "display_name": "Python 3 (ipykernel)",
   "language": "python",
   "name": "python3"
  },
  "language_info": {
   "codemirror_mode": {
    "name": "ipython",
    "version": 3
   },
   "file_extension": ".py",
   "mimetype": "text/x-python",
   "name": "python",
   "nbconvert_exporter": "python",
   "pygments_lexer": "ipython3",
   "version": "3.12.4"
  }
 },
 "nbformat": 4,
 "nbformat_minor": 5
}
