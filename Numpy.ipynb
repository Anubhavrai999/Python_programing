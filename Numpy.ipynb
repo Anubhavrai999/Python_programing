{
 "cells": [
  {
   "cell_type": "raw",
   "id": "ed8fd0e5-a060-47a7-bb31-889ed457057d",
   "metadata": {},
   "source": []
  },
  {
   "cell_type": "code",
   "execution_count": 5,
   "id": "f1b092e0-dfe0-418e-95f9-b8768d2eb179",
   "metadata": {},
   "outputs": [],
   "source": [
    "import numpy as np\n"
   ]
  },
  {
   "cell_type": "code",
   "execution_count": 7,
   "id": "a27dd4ee-102f-4ba9-a892-087132da82da",
   "metadata": {},
   "outputs": [
    {
     "data": {
      "text/plain": [
       "array([1, 2, 3, 4, 5])"
      ]
     },
     "execution_count": 7,
     "metadata": {},
     "output_type": "execute_result"
    }
   ],
   "source": [
    "#1-d Array\n",
    "arr1=np.array([1,2,3,4,5])\n",
    "arr1"
   ]
  },
  {
   "cell_type": "code",
   "execution_count": 9,
   "id": "e0351a1a-3640-4b60-98bd-f40776dbe5e3",
   "metadata": {},
   "outputs": [
    {
     "data": {
      "text/plain": [
       "numpy.ndarray"
      ]
     },
     "execution_count": 9,
     "metadata": {},
     "output_type": "execute_result"
    }
   ],
   "source": [
    "type(arr1)"
   ]
  },
  {
   "cell_type": "code",
   "execution_count": 15,
   "id": "3ad20d49-d57f-465c-9af0-eefccbe4cc39",
   "metadata": {},
   "outputs": [
    {
     "name": "stdout",
     "output_type": "stream",
     "text": [
      "[2 3 4 5]\n"
     ]
    }
   ],
   "source": [
    "arr2=np.array([1,2,3,4,5,6,7])\n",
    "print(arr2[1:5])"
   ]
  },
  {
   "cell_type": "code",
   "execution_count": 17,
   "id": "d958a9e3-dac4-41da-85ec-637017e84759",
   "metadata": {},
   "outputs": [
    {
     "name": "stdout",
     "output_type": "stream",
     "text": [
      "[5 6 7]\n"
     ]
    }
   ],
   "source": [
    "arr3=np.array([1,2,3,4,5,6,7])\n",
    "print(arr3[4:])"
   ]
  },
  {
   "cell_type": "code",
   "execution_count": 19,
   "id": "6e4e4638-4221-4ba2-ac08-9ebb8761e47d",
   "metadata": {},
   "outputs": [
    {
     "name": "stdout",
     "output_type": "stream",
     "text": [
      "[2 4]\n"
     ]
    }
   ],
   "source": [
    "arr4=np.array([1,2,3,4,5,6,7])\n",
    "print(arr4[1:5:2])"
   ]
  },
  {
   "cell_type": "code",
   "execution_count": null,
   "id": "c8c12b73-a92a-4beb-92f7-4dbb55bad2fb",
   "metadata": {},
   "outputs": [],
   "source": []
  }
 ],
 "metadata": {
  "kernelspec": {
   "display_name": "Python 3 (ipykernel)",
   "language": "python",
   "name": "python3"
  },
  "language_info": {
   "codemirror_mode": {
    "name": "ipython",
    "version": 3
   },
   "file_extension": ".py",
   "mimetype": "text/x-python",
   "name": "python",
   "nbconvert_exporter": "python",
   "pygments_lexer": "ipython3",
   "version": "3.12.4"
  }
 },
 "nbformat": 4,
 "nbformat_minor": 5
}
